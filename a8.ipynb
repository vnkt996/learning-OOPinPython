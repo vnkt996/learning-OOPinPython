{
 "cells": [
  {
   "cell_type": "code",
   "execution_count": 1,
   "source": [
    "# lambda functions \n",
    "# lambda arguments : expression\n",
    "\n",
    "add3 = lambda x: x + 3\n",
    "\n",
    "print(add3(1))"
   ],
   "outputs": [
    {
     "output_type": "stream",
     "name": "stdout",
     "text": [
      "4\n"
     ]
    }
   ],
   "metadata": {}
  },
  {
   "cell_type": "code",
   "execution_count": 2,
   "source": [
    "mult = lambda x,y: x * y\n",
    "\n",
    "print(mult(3, 4))"
   ],
   "outputs": [
    {
     "output_type": "stream",
     "name": "stdout",
     "text": [
      "12\n"
     ]
    }
   ],
   "metadata": {}
  },
  {
   "cell_type": "code",
   "execution_count": 10,
   "source": [
    "points2d = [(1, 2), (15, 1), (5, -1), (10, 4)]\n",
    "\n",
    "points2d_sorted = sorted(points2d)\n",
    "\n",
    "print(points2d)\n",
    "print(points2d_sorted)\n"
   ],
   "outputs": [
    {
     "output_type": "stream",
     "name": "stdout",
     "text": [
      "[(1, 2), (15, 1), (5, -1), (10, 4)]\n",
      "[(1, 2), (5, -1), (10, 4), (15, 1)]\n"
     ]
    }
   ],
   "metadata": {}
  },
  {
   "cell_type": "code",
   "execution_count": 11,
   "source": [
    "points2d = [(1, 2), (15, 1), (5, -1), (10, 4)]\n",
    "\n",
    "points2d_sorted2 = sorted(points2d,key = lambda x: x[1])\n",
    "\n",
    "print(points2d)\n",
    "print(points2d_sorted)\n",
    "print(points2d_sorted2)\n"
   ],
   "outputs": [
    {
     "output_type": "stream",
     "name": "stdout",
     "text": [
      "[(1, 2), (15, 1), (5, -1), (10, 4)]\n",
      "[(1, 2), (5, -1), (10, 4), (15, 1)]\n",
      "[(5, -1), (15, 1), (1, 2), (10, 4)]\n"
     ]
    }
   ],
   "metadata": {}
  },
  {
   "cell_type": "code",
   "execution_count": 12,
   "source": [
    "points2d_sorted3 = sorted(points2d, key=lambda x: x[0] + x[1])\n",
    "\n",
    "print(points2d)\n",
    "print(points2d_sorted)\n",
    "print(points2d_sorted2)\n",
    "print(points2d_sorted3)"
   ],
   "outputs": [
    {
     "output_type": "stream",
     "name": "stdout",
     "text": [
      "[(1, 2), (15, 1), (5, -1), (10, 4)]\n",
      "[(1, 2), (5, -1), (10, 4), (15, 1)]\n",
      "[(5, -1), (15, 1), (1, 2), (10, 4)]\n",
      "[(1, 2), (5, -1), (10, 4), (15, 1)]\n"
     ]
    }
   ],
   "metadata": {}
  },
  {
   "cell_type": "code",
   "execution_count": 21,
   "source": [
    "a = [1, 2, 3, 4]\n",
    "\n",
    "b = map(lambda x: x * 2, a)\n",
    "\n",
    "print(list(b))\n",
    "\n",
    "c = [2 * x for x in a]\n",
    "\n",
    "print(c)"
   ],
   "outputs": [
    {
     "output_type": "stream",
     "name": "stdout",
     "text": [
      "[2, 4, 6, 8]\n",
      "[2, 4, 6, 8]\n"
     ]
    }
   ],
   "metadata": {}
  },
  {
   "cell_type": "code",
   "execution_count": 22,
   "source": [
    "a = [1, 2, 3, 4]\n",
    "\n",
    "b = filter(lambda x: x % 2 != 0, a)\n",
    "\n",
    "print(list(b))\n",
    "\n",
    "c = [x for x in a if x % 2 != 0]\n",
    "\n",
    "print(list(c))"
   ],
   "outputs": [
    {
     "output_type": "stream",
     "name": "stdout",
     "text": [
      "[1, 3]\n",
      "[1, 3]\n"
     ]
    }
   ],
   "metadata": {}
  },
  {
   "cell_type": "code",
   "execution_count": 23,
   "source": [
    "from functools import reduce\n",
    "\n",
    "prod = reduce(lambda x, y: x * y, a)\n",
    "\n",
    "print(prod)"
   ],
   "outputs": [
    {
     "output_type": "stream",
     "name": "stdout",
     "text": [
      "24\n"
     ]
    }
   ],
   "metadata": {}
  },
  {
   "cell_type": "code",
   "execution_count": null,
   "source": [],
   "outputs": [],
   "metadata": {}
  }
 ],
 "metadata": {
  "orig_nbformat": 4,
  "language_info": {
   "name": "python",
   "version": "3.9.7",
   "mimetype": "text/x-python",
   "codemirror_mode": {
    "name": "ipython",
    "version": 3
   },
   "pygments_lexer": "ipython3",
   "nbconvert_exporter": "python",
   "file_extension": ".py"
  },
  "kernelspec": {
   "name": "python3",
   "display_name": "Python 3.9.7 64-bit"
  },
  "interpreter": {
   "hash": "e7370f93d1d0cde622a1f8e1c04877d8463912d04d973331ad4851f04de6915a"
  }
 },
 "nbformat": 4,
 "nbformat_minor": 2
}