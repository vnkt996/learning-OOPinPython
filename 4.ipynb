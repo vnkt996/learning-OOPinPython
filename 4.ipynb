{
 "cells": [
  {
   "cell_type": "code",
   "execution_count": 18,
   "source": [
    "# Encapsularion and Abstraction\n",
    "\n",
    "class SoftwareEngineer:\n",
    "\n",
    "  def __init__(self, name, age):\n",
    "    self.name = name\n",
    "    self.age = age\n",
    "    self.__salary = None\n",
    "    self.__no_of_bugs_solved = 0\n",
    "\n",
    "  # getters\n",
    "  def getSalary(self) -> float:\n",
    "    return self.__salary\n",
    "\n",
    "  # setters\n",
    "  def setSalary(self, base_salary) -> None:\n",
    "    self.__salary = self.__calculate_salary(base_salary)\n",
    "\n",
    "  def __calculate_salary(self, base_salary) -> float:\n",
    "    if self.__no_of_bugs_solved < 100:\n",
    "      return base_salary\n",
    "\n",
    "    elif self.__no_of_bugs_solved < 200:\n",
    "      return base_salary * 2\n",
    "\n",
    "    elif self.__no_of_bugs_solved >= 200:\n",
    "      return base_salary * 4\n",
    "\n",
    "\n",
    "  def code(self):\n",
    "    self.__no_of_bugs_solved += 1\n",
    "\n",
    "  def get_number_of_bugs_solved(self):\n",
    "    return self.__no_of_bugs_solved\n",
    "\n",
    "se = SoftwareEngineer(\"vnkt\", 24)\n",
    "\n",
    "print(se.get_number_of_bugs_solved())\n",
    "\n",
    "for i in range(250):\n",
    "  se.code()\n",
    "\n",
    "se.setSalary(200000)\n",
    "\n",
    "\n",
    "print(se.getSalary())        \n",
    "\n",
    "# we use getters and setters to enforce checks and constraints"
   ],
   "outputs": [
    {
     "output_type": "stream",
     "name": "stdout",
     "text": [
      "0\n",
      "800000\n"
     ]
    }
   ],
   "metadata": {}
  },
  {
   "cell_type": "code",
   "execution_count": null,
   "source": [
    "# here we are using abstraction principle to set salary, \n",
    "# we are hiding all the internal implementation details about how we are calculating the salary to the end user.\n",
    "\n",
    "# encapsulation is a method to hide the data in a single entity or unit along with a method to protect information from outside\n",
    "# abstraction is the method of hiding the unwanted information.\n"
   ],
   "outputs": [],
   "metadata": {}
  }
 ],
 "metadata": {
  "orig_nbformat": 4,
  "language_info": {
   "name": "python",
   "version": "3.9.7",
   "mimetype": "text/x-python",
   "codemirror_mode": {
    "name": "ipython",
    "version": 3
   },
   "pygments_lexer": "ipython3",
   "nbconvert_exporter": "python",
   "file_extension": ".py"
  },
  "kernelspec": {
   "name": "python3",
   "display_name": "Python 3.9.7 64-bit"
  },
  "interpreter": {
   "hash": "e7370f93d1d0cde622a1f8e1c04877d8463912d04d973331ad4851f04de6915a"
  }
 },
 "nbformat": 4,
 "nbformat_minor": 2
}