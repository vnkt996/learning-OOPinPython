{
 "cells": [
  {
   "cell_type": "code",
   "execution_count": null,
   "source": [
    "# 1\r\n",
    "# classes \r\n",
    "# why & how\r\n",
    "# classes vs instances\r\n",
    "\r\n",
    "# 2\r\n",
    "# functions inside classes\r\n",
    "\r\n",
    "# 3\r\n",
    "# inheritance (base + child class)\r\n",
    "\r\n",
    "# 4\r\n",
    "# encapsulation (private / public)\r\n",
    "\r\n",
    "# 5\r\n",
    "# properties (getter / setter)\r\n",
    "\r\n",
    "# 4 principles of oop\r\n",
    "# inheritance\r\n",
    "# polymorphism\r\n",
    "# encapsulation\r\n",
    "# abstraction\r\n"
   ],
   "outputs": [],
   "metadata": {}
  }
 ],
 "metadata": {
  "orig_nbformat": 4,
  "language_info": {
   "name": "python"
  }
 },
 "nbformat": 4,
 "nbformat_minor": 2
}