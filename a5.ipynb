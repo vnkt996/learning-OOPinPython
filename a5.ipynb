{
 "cells": [
  {
   "cell_type": "code",
   "execution_count": 2,
   "source": [
    "# strings - ordered, immutable, text representation\n",
    "def p(str) -> None:\n",
    "  print(str)\n",
    "\n",
    "\n",
    "mystring = \" hello world   \"\n",
    "\n",
    "newstring = mystring.strip()\n",
    "\n",
    "p(mystring)\n",
    "p(newstring)"
   ],
   "outputs": [
    {
     "output_type": "stream",
     "name": "stdout",
     "text": [
      " hello world   \n",
      "hello world\n"
     ]
    }
   ],
   "metadata": {}
  },
  {
   "cell_type": "code",
   "execution_count": 4,
   "source": [
    "p(newstring.startswith('hel'))\n",
    "p(newstring.endswith('ld'))"
   ],
   "outputs": [
    {
     "output_type": "stream",
     "name": "stdout",
     "text": [
      "True\n",
      "True\n"
     ]
    }
   ],
   "metadata": {}
  },
  {
   "cell_type": "code",
   "execution_count": 5,
   "source": [
    "p(newstring.find('l'))\n",
    "#returns first index"
   ],
   "outputs": [
    {
     "output_type": "stream",
     "name": "stdout",
     "text": [
      "2\n"
     ]
    }
   ],
   "metadata": {}
  },
  {
   "cell_type": "code",
   "execution_count": 6,
   "source": [
    "p(newstring.count('o'))"
   ],
   "outputs": [
    {
     "output_type": "stream",
     "name": "stdout",
     "text": [
      "2\n"
     ]
    }
   ],
   "metadata": {}
  },
  {
   "cell_type": "code",
   "execution_count": 7,
   "source": [
    "p(newstring.replace('world', 'universe'))\n",
    "#this returns new string not changing existing string"
   ],
   "outputs": [
    {
     "output_type": "stream",
     "name": "stdout",
     "text": [
      "hello universe\n"
     ]
    }
   ],
   "metadata": {}
  },
  {
   "cell_type": "code",
   "execution_count": 10,
   "source": [
    "mystring = \"i am vnkt, how are you doing??\"\n",
    "\n",
    "mylist = mystring.split()\n",
    "#default splitting is done on ' '\n",
    "\n",
    "p(mylist)\n",
    "\n",
    "\n",
    "mylist = mystring.split(',')\n",
    "\n",
    "p(mylist)"
   ],
   "outputs": [
    {
     "output_type": "stream",
     "name": "stdout",
     "text": [
      "['i', 'am', 'vnkt,', 'how', 'are', 'you', 'doing??']\n",
      "['i am vnkt', ' how are you doing??']\n"
     ]
    }
   ],
   "metadata": {}
  },
  {
   "cell_type": "code",
   "execution_count": 11,
   "source": [
    "mylist = mystring.split()\n",
    "\n",
    "p(mylist)\n",
    "\n",
    "newstring = ' '.join(mylist)\n",
    "\n",
    "p(newstring)"
   ],
   "outputs": [
    {
     "output_type": "stream",
     "name": "stdout",
     "text": [
      "['i', 'am', 'vnkt,', 'how', 'are', 'you', 'doing??']\n",
      "i am vnkt, how are you doing??\n"
     ]
    }
   ],
   "metadata": {}
  },
  {
   "cell_type": "code",
   "execution_count": 14,
   "source": [
    "# formating a string\n",
    "# %, .format(), f-strings\n",
    "\n",
    "name = \"vnkt\"\n",
    "mystring = \"my name is %s\" % name\n",
    "p(mystring) \n",
    "\n",
    "no = 5\n",
    "mystring = \"the no is %d\" % no\n",
    "p(mystring)\n",
    "\n",
    "no = 3.14143\n",
    "mystring = \"the no is %.2f\" % no\n",
    "p(mystring)\n"
   ],
   "outputs": [
    {
     "output_type": "stream",
     "name": "stdout",
     "text": [
      "my name is vnkt\n",
      "the no is 5\n",
      "the no is 3.14\n"
     ]
    }
   ],
   "metadata": {}
  },
  {
   "cell_type": "code",
   "execution_count": 17,
   "source": [
    "name = \"vnkt\"\n",
    "mystring = \"my name is {}\".format(name)\n",
    "p(mystring)\n",
    "\n",
    "no = 5\n",
    "mystring = \"the no is {}\".format(no)\n",
    "p(mystring)\n",
    "\n",
    "no = 3.14143\n",
    "otherno = 1223\n",
    "mystring = \"the nos are {:.2f} and {}\".format(no, otherno)\n",
    "p(mystring)\n"
   ],
   "outputs": [
    {
     "output_type": "stream",
     "name": "stdout",
     "text": [
      "my name is vnkt\n",
      "the no is 5\n",
      "the nos are 3.14 and 1223\n"
     ]
    }
   ],
   "metadata": {}
  },
  {
   "cell_type": "code",
   "execution_count": 21,
   "source": [
    "name = \"vnkt\"\n",
    "mystring = f\"my name is {name}\"\n",
    "p(mystring)\n",
    "\n",
    "no = 5\n",
    "mystring = f\"the no is {no}\"\n",
    "p(mystring)\n",
    "\n",
    "no = 3.14143\n",
    "otherno = 1223\n",
    "mystring = f\"the nos are {no} and {otherno}\"\n",
    "p(mystring)\n"
   ],
   "outputs": [
    {
     "output_type": "stream",
     "name": "stdout",
     "text": [
      "my name is vnkt\n",
      "the no is 5\n",
      "the nos are 3.14143 and 1223\n"
     ]
    }
   ],
   "metadata": {}
  }
 ],
 "metadata": {
  "orig_nbformat": 4,
  "language_info": {
   "name": "python",
   "version": "3.9.7",
   "mimetype": "text/x-python",
   "codemirror_mode": {
    "name": "ipython",
    "version": 3
   },
   "pygments_lexer": "ipython3",
   "nbconvert_exporter": "python",
   "file_extension": ".py"
  },
  "kernelspec": {
   "name": "python3",
   "display_name": "Python 3.9.7 64-bit"
  },
  "interpreter": {
   "hash": "e7370f93d1d0cde622a1f8e1c04877d8463912d04d973331ad4851f04de6915a"
  }
 },
 "nbformat": 4,
 "nbformat_minor": 2
}