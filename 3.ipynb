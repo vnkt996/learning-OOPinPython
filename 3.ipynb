{
 "cells": [
  {
   "cell_type": "code",
   "execution_count": 5,
   "source": [
    "# Inheritance\r\n",
    "\r\n",
    "class Employee():\r\n",
    "\r\n",
    "  def __init__(self, name, age, salary) -> None:\r\n",
    "    self.name = name\r\n",
    "    self.age = age\r\n",
    "    self.salary = salary\r\n",
    "  \r\n",
    "  def work(self) -> None:\r\n",
    "    print(f\"{self.name} is working\")\r\n",
    "    \r\n",
    "\r\n",
    "class SoftwareEngineer(Employee):\r\n",
    "\r\n",
    "  def __init__(self, name, age, salary, level) -> None:\r\n",
    "    super().__init__(name, age, salary)\r\n",
    "    self.level = level\r\n",
    "  \r\n",
    "  def debug(self) -> None:\r\n",
    "    print(f\"{self.name} is debugging\")\r\n",
    "\r\n",
    "  def work(self) -> None:\r\n",
    "    print(f\"{self.name} is coding\")\r\n",
    "\r\n",
    "class Designer(Employee):\r\n",
    "\r\n",
    "  def __init__(self, name, age, salary) -> None:\r\n",
    "    super().__init__(name, age, salary)\r\n",
    "  \r\n",
    "  def draw(self) -> None:\r\n",
    "    print(f\"{self.name} is drawing\")\r\n",
    "\r\n",
    "  def work(self) -> None:\r\n",
    "    print(f\"{self.name} is designing\")"
   ],
   "outputs": [],
   "metadata": {}
  },
  {
   "cell_type": "code",
   "execution_count": 7,
   "source": [
    "se  = SoftwareEngineer(\"vnkt\", 24, 200000, \"sde2\")\r\n",
    "se.work()\r\n",
    "se.debug()\r\n",
    "d = Designer(\"vngl\", 25, 200000)\r\n",
    "d.work()\r\n",
    "d.draw()"
   ],
   "outputs": [
    {
     "output_type": "stream",
     "name": "stdout",
     "text": [
      "vnkt is coding\n",
      "vnkt is debugging\n",
      "vngl is designing\n",
      "vngl is drawing\n"
     ]
    }
   ],
   "metadata": {}
  },
  {
   "cell_type": "code",
   "execution_count": 9,
   "source": [
    "# Polymorphism\r\n",
    "\r\n",
    "employees = [SoftwareEngineer(\"vnkt\", 24, 200000, \"sde2\"), SoftwareEngineer(\"vngl\", 25, 250000, \"sde2\"),Designer(\"dv\", 28, 260000), Employee(\"nv\", 26, 260000)  ]\r\n",
    "\r\n",
    "def workingEmployees(employees):\r\n",
    "  for employee in employees:\r\n",
    "    employee.work()\r\n",
    "\r\n",
    "workingEmployees(employees)"
   ],
   "outputs": [
    {
     "output_type": "stream",
     "name": "stdout",
     "text": [
      "vnkt is coding\n",
      "vngl is coding\n",
      "dv is designing\n",
      "nv is working\n"
     ]
    }
   ],
   "metadata": {}
  },
  {
   "cell_type": "code",
   "execution_count": 10,
   "source": [
    "# recap\r\n",
    "# inheritance: ChildClass(BaseClass)\r\n",
    "# inherit, extend, override\r\n",
    "# super().__init__()\r\n",
    "# polymorphism"
   ],
   "outputs": [],
   "metadata": {}
  }
 ],
 "metadata": {
  "orig_nbformat": 4,
  "language_info": {
   "name": "python",
   "version": "3.8.8",
   "mimetype": "text/x-python",
   "codemirror_mode": {
    "name": "ipython",
    "version": 3
   },
   "pygments_lexer": "ipython3",
   "nbconvert_exporter": "python",
   "file_extension": ".py"
  },
  "kernelspec": {
   "name": "python3",
   "display_name": "Python 3.8.8 64-bit ('base': conda)"
  },
  "interpreter": {
   "hash": "6bd5f2c578ea81d4a7725a2bf64f4479fff78f85d5d01cd93f7e193f2574024b"
  }
 },
 "nbformat": 4,
 "nbformat_minor": 2
}