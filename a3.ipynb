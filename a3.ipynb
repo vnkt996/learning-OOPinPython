{
 "cells": [
  {
   "cell_type": "code",
   "execution_count": 1,
   "source": [
    "#dictionaries - collection data type, unordered and mutable\n",
    "\n",
    "mydict = {\"name\":\"vnkt\", \"age\":24, \"city\":\"blacksburg\"}\n",
    "print(mydict)\n"
   ],
   "outputs": [
    {
     "output_type": "stream",
     "name": "stdout",
     "text": [
      "{'name': 'vnkt', 'age': 24, 'city': 'blacksburg'}\n"
     ]
    }
   ],
   "metadata": {}
  },
  {
   "cell_type": "code",
   "execution_count": 2,
   "source": [
    "mydict2 = dict(name = \"vnkt\", age = 24, city = \"blacksburg\")\n",
    "print(mydict2)"
   ],
   "outputs": [
    {
     "output_type": "stream",
     "name": "stdout",
     "text": [
      "{'name': 'vnkt', 'age': 24, 'city': 'blacksburg'}\n"
     ]
    }
   ],
   "metadata": {}
  },
  {
   "cell_type": "code",
   "execution_count": 3,
   "source": [
    "values = mydict[\"age\"]\n",
    "print(values)"
   ],
   "outputs": [
    {
     "output_type": "stream",
     "name": "stdout",
     "text": [
      "24\n"
     ]
    }
   ],
   "metadata": {}
  },
  {
   "cell_type": "code",
   "execution_count": 7,
   "source": [
    "mydict[\"email\"] = \"saivenkat@vt.edu\"\n",
    "print(mydict) "
   ],
   "outputs": [
    {
     "output_type": "stream",
     "name": "stdout",
     "text": [
      "{'name': 'vnkt', 'age': 24, 'city': 'blacksburg', 'email': 'saivenkat@vt.edu'}\n"
     ]
    }
   ],
   "metadata": {}
  },
  {
   "cell_type": "code",
   "execution_count": 8,
   "source": [
    "del mydict[\"email\"]\n",
    "print(mydict)"
   ],
   "outputs": [
    {
     "output_type": "stream",
     "name": "stdout",
     "text": [
      "{'name': 'vnkt', 'age': 24, 'city': 'blacksburg'}\n"
     ]
    }
   ],
   "metadata": {}
  },
  {
   "cell_type": "code",
   "execution_count": 9,
   "source": [
    "mydict.pop(\"age\")\n",
    "print(mydict)"
   ],
   "outputs": [
    {
     "output_type": "stream",
     "name": "stdout",
     "text": [
      "{'name': 'vnkt', 'city': 'blacksburg'}\n"
     ]
    }
   ],
   "metadata": {}
  },
  {
   "cell_type": "code",
   "execution_count": 10,
   "source": [
    "if \"name\" in mydict:\n",
    "  print(mydict[\"name\"])"
   ],
   "outputs": [
    {
     "output_type": "stream",
     "name": "stdout",
     "text": [
      "vnkt\n"
     ]
    }
   ],
   "metadata": {}
  },
  {
   "cell_type": "code",
   "execution_count": 11,
   "source": [
    "for key in mydict.keys():\n",
    "  print(key)\n",
    "\n",
    "for value in mydict.values():\n",
    "  print(value)\n",
    "\n",
    "for key, value in mydict.items():\n",
    "  print(key, value)"
   ],
   "outputs": [
    {
     "output_type": "stream",
     "name": "stdout",
     "text": [
      "name\n",
      "city\n",
      "vnkt\n",
      "blacksburg\n",
      "name vnkt\n",
      "city blacksburg\n"
     ]
    }
   ],
   "metadata": {}
  },
  {
   "cell_type": "code",
   "execution_count": 12,
   "source": [
    "mydictcopy = mydict.copy()\n",
    "\n",
    "mydict[\"email\"] = \"saivenkat@vt.edu\"\n",
    "print(mydict) \n",
    "print(mydictcopy)"
   ],
   "outputs": [
    {
     "output_type": "stream",
     "name": "stdout",
     "text": [
      "{'name': 'vnkt', 'city': 'blacksburg', 'email': 'saivenkat@vt.edu'}\n",
      "{'name': 'vnkt', 'city': 'blacksburg'}\n"
     ]
    }
   ],
   "metadata": {}
  },
  {
   "cell_type": "code",
   "execution_count": 13,
   "source": [
    "mydictcopy[\"city\"] = \"hyd\"\n",
    "print(mydict) \n",
    "print(mydictcopy)\n",
    "\n",
    "mydictcopy.update(mydict)\n",
    "print(mydictcopy)"
   ],
   "outputs": [
    {
     "output_type": "stream",
     "name": "stdout",
     "text": [
      "{'name': 'vnkt', 'city': 'blacksburg', 'email': 'saivenkat@vt.edu'}\n",
      "{'name': 'vnkt', 'city': 'hyd'}\n",
      "{'name': 'vnkt', 'city': 'blacksburg', 'email': 'saivenkat@vt.edu'}\n"
     ]
    }
   ],
   "metadata": {}
  },
  {
   "cell_type": "code",
   "execution_count": 14,
   "source": [
    "mydict = {2:4, 3:9, 4:16}\n",
    "print(mydict)\n",
    "print(mydict[2])"
   ],
   "outputs": [
    {
     "output_type": "stream",
     "name": "stdout",
     "text": [
      "{2: 4, 3: 9, 4: 16}\n",
      "4\n"
     ]
    }
   ],
   "metadata": {}
  },
  {
   "cell_type": "code",
   "execution_count": 15,
   "source": [
    "mytuple = (2,4)\n",
    "mydict = {mytuple: 6}\n",
    "print(mydict)"
   ],
   "outputs": [
    {
     "output_type": "stream",
     "name": "stdout",
     "text": [
      "{(2, 4): 6}\n"
     ]
    }
   ],
   "metadata": {}
  },
  {
   "cell_type": "code",
   "execution_count": null,
   "source": [],
   "outputs": [],
   "metadata": {}
  }
 ],
 "metadata": {
  "orig_nbformat": 4,
  "language_info": {
   "name": "python",
   "version": "3.9.7",
   "mimetype": "text/x-python",
   "codemirror_mode": {
    "name": "ipython",
    "version": 3
   },
   "pygments_lexer": "ipython3",
   "nbconvert_exporter": "python",
   "file_extension": ".py"
  },
  "kernelspec": {
   "name": "python3",
   "display_name": "Python 3.9.7 64-bit"
  },
  "interpreter": {
   "hash": "e7370f93d1d0cde622a1f8e1c04877d8463912d04d973331ad4851f04de6915a"
  }
 },
 "nbformat": 4,
 "nbformat_minor": 2
}