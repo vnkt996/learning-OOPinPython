{
 "cells": [
  {
   "cell_type": "code",
   "execution_count": 4,
   "source": [
    "# classes\r\n",
    "# \r\n",
    "\r\n",
    "#class\r\n",
    "class SoftwareEngineer:\r\n",
    "\r\n",
    "  #class attributes\r\n",
    "  alias = \"backend engineer\"\r\n",
    "\r\n",
    "  def __init__(self, name, age, level, salary):\r\n",
    "    #instance attributes\r\n",
    "    self.name = name\r\n",
    "    self.age = age\r\n",
    "    self.level = level\r\n",
    "    self.salary = salary\r\n",
    "\r\n",
    "#instance\r\n",
    "se1 = SoftwareEngineer(\"vnkt\", 24, \"sde1\", 200000)\r\n",
    "print(se1.name)\r\n",
    "#instance\r\n",
    "print(se1.alias)\r\n",
    "\r\n",
    "se2 = SoftwareEngineer(\"vngl\", 25, \"sde2\", 250000)\r\n",
    "print(se2.name)\r\n",
    "#instance\r\n",
    "print(se2.alias)\r\n",
    "#class\r\n",
    "print(SoftwareEngineer.alias)"
   ],
   "outputs": [
    {
     "output_type": "stream",
     "name": "stdout",
     "text": [
      "vnkt\n",
      "backend engineer\n",
      "vngl\n",
      "backend engineer\n",
      "backend engineer\n"
     ]
    }
   ],
   "metadata": {}
  },
  {
   "cell_type": "code",
   "execution_count": null,
   "source": [],
   "outputs": [],
   "metadata": {}
  }
 ],
 "metadata": {
  "orig_nbformat": 4,
  "language_info": {
   "name": "python",
   "version": "3.9.7",
   "mimetype": "text/x-python",
   "codemirror_mode": {
    "name": "ipython",
    "version": 3
   },
   "pygments_lexer": "ipython3",
   "nbconvert_exporter": "python",
   "file_extension": ".py"
  },
  "kernelspec": {
   "name": "python3",
   "display_name": "Python 3.9.7 64-bit"
  },
  "interpreter": {
   "hash": "ac59ebe37160ed0dfa835113d9b8498d9f09ceb179beaac4002f036b9467c963"
  }
 },
 "nbformat": 4,
 "nbformat_minor": 2
}