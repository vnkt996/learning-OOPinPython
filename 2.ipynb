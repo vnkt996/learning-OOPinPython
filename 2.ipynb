{
 "cells": [
  {
   "cell_type": "code",
   "execution_count": 23,
   "source": [
    "# Functions\r\n",
    "\r\n",
    "\r\n",
    "#class\r\n",
    "class SoftwareEngineer:\r\n",
    "\r\n",
    "  #class attributes\r\n",
    "  alias = \"backend engineer\"\r\n",
    "\r\n",
    "  def __init__(self, name, age, level, salary):\r\n",
    "    #instance attributes\r\n",
    "    self.name = name\r\n",
    "    self.age = age\r\n",
    "    self.level = level\r\n",
    "    self.salary = salary\r\n",
    "\r\n",
    "  #instance method\r\n",
    "  def code(self):\r\n",
    "    print(f\"{self.name} is writing code\")\r\n",
    "\r\n",
    "  def codeInLang(self, lang):\r\n",
    "    print(f\"{self.name} is writing code in {lang}\")\r\n",
    "\r\n",
    "  def getInformation(self) -> str:\r\n",
    "    information = f\"name = {self.name}, age = {self.age}, level = {self.level}\"\r\n",
    "    return information\r\n",
    "\r\n",
    "  #d_under_method\r\n",
    "  def __str__(self) -> str:\r\n",
    "    information = f\"name = {self.name}, age = {self.age}, level = {self.level}\"\r\n",
    "    return information\r\n",
    "\r\n",
    "  def __eq__(self, o: SoftwareEngineer) -> bool:\r\n",
    "    return self.name == o.name  and self.age == o.age\r\n",
    "\r\n",
    "  def entrySal(age) -> int:\r\n",
    "    if(age <= 25):\r\n",
    "      return 5000\r\n",
    "    if(age <= 30):\r\n",
    "      return 8000\r\n",
    "    return 0\r\n",
    "  \r\n",
    "  @staticmethod\r\n",
    "  def entrySalStaticExample(age) -> int:\r\n",
    "    if(age <= 25):\r\n",
    "      return 5000\r\n",
    "    if(age <= 30):\r\n",
    "      return 8000\r\n",
    "    return 0\r\n",
    "\r\n",
    "\r\n",
    "#instance\r\n",
    "se1 = SoftwareEngineer(\"vnkt\", 24, \"sde1\", 200000)\r\n",
    "se2 = SoftwareEngineer(\"vngl\", 25, \"sde2\", 250000)\r\n",
    "se3 = SoftwareEngineer(\"dv\", 28, \"sde2\", 260000)\r\n",
    "\r\n",
    "se1.code()\r\n",
    "se2.code()\r\n",
    "\r\n",
    "se1.codeInLang(\"python\")\r\n",
    "se2.codeInLang(\"c++\")\r\n",
    "\r\n",
    "print(se1.getInformation())\r\n",
    "print(se2.getInformation())"
   ],
   "outputs": [
    {
     "output_type": "stream",
     "name": "stdout",
     "text": [
      "vnkt is writing code\n",
      "vngl is writing code\n",
      "vnkt is writing code in python\n",
      "vngl is writing code in c++\n",
      "name = vnkt, age = 24, level = sde1\n",
      "name = vngl, age = 25, level = sde2\n"
     ]
    }
   ],
   "metadata": {}
  },
  {
   "cell_type": "code",
   "execution_count": 25,
   "source": [
    "print(se1)\r\n",
    "print(se2)\r\n",
    "\r\n",
    "print(se2 == se3)\r\n",
    "\r\n",
    "se4 = SoftwareEngineer(\"dv\", 28, \"sde2\", 260000)\r\n",
    "\r\n",
    "print(se4 == se3)\r\n",
    "\r\n",
    "print(SoftwareEngineer.entrySal(26))\r\n",
    "\r\n",
    "# this fails because we are calling class function on instance  \r\n",
    "# print(se3.entrySal(23))\r\n",
    "\r\n",
    "print(se3.entrySalStaticExample(23))"
   ],
   "outputs": [
    {
     "output_type": "stream",
     "name": "stdout",
     "text": [
      "name = vnkt, age = 24, level = sde1\n",
      "name = vngl, age = 25, level = sde2\n",
      "False\n",
      "True\n",
      "8000\n",
      "5000\n"
     ]
    }
   ],
   "metadata": {}
  },
  {
   "cell_type": "code",
   "execution_count": null,
   "source": [
    "# recap\r\n",
    "# instance methods\r\n",
    "# d_under methods\r\n",
    "# arguments and return values\r\n",
    "# static methods"
   ],
   "outputs": [],
   "metadata": {}
  }
 ],
 "metadata": {
  "orig_nbformat": 4,
  "language_info": {
   "name": "python",
   "version": "3.8.8",
   "mimetype": "text/x-python",
   "codemirror_mode": {
    "name": "ipython",
    "version": 3
   },
   "pygments_lexer": "ipython3",
   "nbconvert_exporter": "python",
   "file_extension": ".py"
  },
  "kernelspec": {
   "name": "python3",
   "display_name": "Python 3.8.8 64-bit ('base': conda)"
  },
  "interpreter": {
   "hash": "6bd5f2c578ea81d4a7725a2bf64f4479fff78f85d5d01cd93f7e193f2574024b"
  }
 },
 "nbformat": 4,
 "nbformat_minor": 2
}